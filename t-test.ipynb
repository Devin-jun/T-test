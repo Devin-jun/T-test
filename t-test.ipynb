{
 "cells": [
  {
   "cell_type": "code",
   "execution_count": 1,
   "metadata": {},
   "outputs": [],
   "source": [
    "import pandas as pd\n",
    "import numpy as np\n",
    "import matplotlib.pyplot as plt\n",
    "import seaborn as sns\n",
    "import statsmodels.stats.weightstats as st\n",
    "from scipy import stats"
   ]
  },
  {
   "cell_type": "code",
   "execution_count": 5,
   "metadata": {},
   "outputs": [],
   "source": [
    "# read in data\n",
    "data = pd.read_excel('学生统计.xls',header = 0)"
   ]
  },
  {
   "cell_type": "code",
   "execution_count": 20,
   "metadata": {},
   "outputs": [],
   "source": [
    "# group by sex\n",
    "F_Y = []\n",
    "M_Y = []\n",
    "for i in range(len(data)):\n",
    "    if data.iloc[i]['性别'] == '女':\n",
    "        F_Y.append(data.iloc[i]['估计王老师年龄'])\n",
    "    else:\n",
    "        M_Y.append(data.iloc[i]['估计王老师年龄'])"
   ]
  },
  {
   "cell_type": "code",
   "execution_count": 29,
   "metadata": {},
   "outputs": [],
   "source": [
    "#统计男女生的人数\n",
    "sum_M_Y , sum_F_Y = len(M_Y) , len(F_Y)\n",
    "#计算男生对于王老师年龄的估计的期望\n",
    "E_M_Y = np.mean(M_Y)\n",
    "#计算女生对于王老师年龄的估计的期望\n",
    "E_F_Y = np.mean(F_Y)"
   ]
  },
  {
   "cell_type": "code",
   "execution_count": 40,
   "metadata": {},
   "outputs": [
    {
     "data": {
      "text/plain": [
       "49.20909090909091"
      ]
     },
     "execution_count": 40,
     "metadata": {},
     "output_type": "execute_result"
    }
   ],
   "source": [
    "E_M_Y"
   ]
  },
  {
   "cell_type": "code",
   "execution_count": 41,
   "metadata": {},
   "outputs": [
    {
     "data": {
      "text/plain": [
       "48.69672131147541"
      ]
     },
     "execution_count": 41,
     "metadata": {},
     "output_type": "execute_result"
    }
   ],
   "source": [
    "E_F_Y"
   ]
  },
  {
   "cell_type": "code",
   "execution_count": null,
   "metadata": {},
   "outputs": [],
   "source": []
  },
  {
   "cell_type": "code",
   "execution_count": 30,
   "metadata": {},
   "outputs": [
    {
     "data": {
      "text/plain": [
       "[Text(0.5, 1.0, ' female data distribution')]"
      ]
     },
     "execution_count": 30,
     "metadata": {},
     "output_type": "execute_result"
    },
    {
     "data": {
      "image/png": "[encoded data removed]",
      "text/plain": [
       "<Figure size 720x360 with 2 Axes>"
      ]
     },
     "metadata": {
      "needs_background": "light"
     },
     "output_type": "display_data"
    }
   ],
   "source": [
    "# plot data distribution \n",
    "fig, axes = plt.subplots(ncols=2)\n",
    "fig.set_size_inches(10, 5)\n",
    "sns.kdeplot(data=M_Y, legend=False, ax=axes[0])\n",
    "sns.kdeplot(data=F_Y, legend=False, ax=axes[1])\n",
    "axes[0].set(title='male data distribution')\n",
    "axes[1].set(title=' female data distribution')"
   ]
  },
  {
   "cell_type": "code",
   "execution_count": 31,
   "metadata": {},
   "outputs": [],
   "source": [
    "#ks test check the data neither normal distribution\n",
    "\"\"\"\n",
    "kstest方法：KS检验，参数分别是：待检验的数据，检验方法（这里设置成norm正态分布），均值与标准差\n",
    "结果返回两个值：statistic → D值，pvalue → P值\n",
    "p值大于0.05，为正态分布\n",
    "H0:样本符合  \n",
    "H1:样本不符合 \n",
    "如何p>0.05接受H0 ,反之 \n",
    "\"\"\"\n",
    "## male data distribution\n",
    "u_M = E_M_Y\n",
    "std_M = np.std(M_Y)\n",
    "p1_value = stats.kstest(M_Y,'norm',(u_M,std_M))\n",
    "## female data distribution\n",
    "u_F = E_F_Y\n",
    "std_F = np.std(F_Y)\n",
    "p2_value = stats.kstest(F_Y,'norm',(u_F,std_F))"
   ]
  },
  {
   "cell_type": "code",
   "execution_count": 32,
   "metadata": {},
   "outputs": [
    {
     "data": {
      "text/plain": [
       "KstestResult(statistic=0.16064994063610005, pvalue=0.006012342050093492)"
      ]
     },
     "execution_count": 32,
     "metadata": {},
     "output_type": "execute_result"
    }
   ],
   "source": [
    "p1_value"
   ]
  },
  {
   "cell_type": "code",
   "execution_count": 33,
   "metadata": {},
   "outputs": [
    {
     "data": {
      "text/plain": [
       "KstestResult(statistic=0.1529696482372458, pvalue=0.005866215410974998)"
      ]
     },
     "execution_count": 33,
     "metadata": {},
     "output_type": "execute_result"
    }
   ],
   "source": [
    "p2_value"
   ]
  },
  {
   "cell_type": "code",
   "execution_count": 34,
   "metadata": {},
   "outputs": [
    {
     "name": "stdout",
     "output_type": "stream",
     "text": [
      "Levene's方差齐性检验的W统计量为0.1491509475893635\n",
      "Levene's方差齐性检验的P值为0.6997050824924578\n"
     ]
    }
   ],
   "source": [
    "#通过KS检验可以证明男生和女生对王老师年龄的估计符合正态分布 考虑建立两独立样本的t检验\n",
    "#进行方差齐性检验\n",
    "W, levene_P = stats.levene(M_Y, F_Y, center='mean')\n",
    "print(\"Levene's方差齐性检验的W统计量为\" + str(W))\n",
    "print(\"Levene's方差齐性检验的P值为\" + str(levene_P))"
   ]
  },
  {
   "cell_type": "code",
   "execution_count": 35,
   "metadata": {},
   "outputs": [
    {
     "name": "stdout",
     "output_type": "stream",
     "text": [
      "t=0.7866602446266856\n",
      "P值=0.4322905695828344\n",
      "自由度=230.0\n"
     ]
    }
   ],
   "source": [
    "#方差齐性检验说明两样本之间的方差没有显著差异，使用标准t检验\n",
    "t, p_two, df = st.ttest_ind(M_Y, F_Y)\n",
    "print('t=' + str(t))\n",
    "print('P值=' + str(p_two))\n",
    "print('自由度=' + str(df))"
   ]
  },
  {
   "cell_type": "code",
   "execution_count": null,
   "metadata": {},
   "outputs": [],
   "source": []
  }
 ],
 "metadata": {
  "kernelspec": {
   "display_name": "Python 3",
   "language": "python",
   "name": "python3"
  },
  "language_info": {
   "codemirror_mode": {
    "name": "ipython",
    "version": 3
   },
   "file_extension": ".py",
   "mimetype": "text/x-python",
   "name": "python",
   "nbconvert_exporter": "python",
   "pygments_lexer": "ipython3",
   "version": "3.7.6"
  }
 },
 "nbformat": 4,
 "nbformat_minor": 4
}
